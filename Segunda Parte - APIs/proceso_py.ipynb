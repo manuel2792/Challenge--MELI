{
  "nbformat": 4,
  "nbformat_minor": 0,
  "metadata": {
    "colab": {
      "provenance": []
    },
    "kernelspec": {
      "name": "python3",
      "display_name": "Python 3"
    },
    "language_info": {
      "name": "python"
    }
  },
  "cells": [
    {
      "cell_type": "code",
      "execution_count": null,
      "metadata": {
        "id": "DIMh2_By-44c"
      },
      "outputs": [],
      "source": [
        "# Instalar librerías necesarias\n",
        "!pip install pandas requests\n",
        "\n",
        "# Importar librerías\n",
        "import requests\n",
        "import pandas as pd\n",
        "from google.colab import files\n",
        "\n",
        "# Definir los términos de búsqueda\n",
        "search_terms = ['chromecast', 'google home', 'apple tv', 'amazon fire tv']\n",
        "\n",
        "# Definir los campos que queremos extraer\n",
        "fields = ['id', 'title', 'price', 'base_price', 'original_price', 'currency_id', 'initial_quantity',\n",
        "          'available_quantity', 'sold_quantity', 'condition', 'category_id', 'reviews_quantity',\n",
        "          'reviews_average', 'brand']\n",
        "\n",
        "\n",
        "# Obtener resultados de búsqueda\n",
        "items = []\n",
        "for term in search_terms:\n",
        "    response = requests.get(f'https://api.mercadolibre.com/sites/MLA/search?q={term}&limit=50')\n",
        "    if response.status_code == 200:\n",
        "        items.extend(response.json().get('results', []))\n",
        "\n",
        "# Obtener información detallada de cada ítem\n",
        "detailed_items = []\n",
        "for item in items:\n",
        "    item_id = item.get('id')\n",
        "    response = requests.get(f'https://api.mercadolibre.com/items/{item_id}')\n",
        "    if response.status_code == 200:\n",
        "        item_details = response.json()\n",
        "        # Extraer solo los campos deseados\n",
        "        filtered_details = {field: item_details.get(field, None) for field in fields}\n",
        "        # Extraer información adicional de 'reviews' si está disponible\n",
        "        if 'reviews' in item_details:\n",
        "            filtered_details['reviews_quantity'] = item_details['reviews']['rating']['quantity']\n",
        "            filtered_details['reviews_average'] = item_details['reviews']['rating']['average']\n",
        "        detailed_items.append(filtered_details)\n",
        "\n",
        "# Guardar resultados en un archivo CSV\n",
        "df = pd.DataFrame(detailed_items)\n",
        "df.to_csv('get_data.csv', index=False)\n",
        "\n",
        "print(\"¡Datos guardados exitosamente en 'get_data.csv'!\")\n",
        "\n",
        "# Descargar el archivo CSV\n",
        "files.download('get_data.csv')"
      ]
    }
  ]
}